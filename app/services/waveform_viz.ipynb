{
  "cells": [
    {
      "cell_type": "markdown",
      "metadata": {},
      "source": [
        "# Waveform Visualization Notebook\n",
        "\n",
        "Set `VIDEO_PATH` to your local video. This notebook uses the same helpers as the API to:\n",
        "- Decode video frames\n",
        "- Build a raw green-channel trace (skin-masked)\n",
        "- Band-pass filter (broad) to estimate HR (FFT)\n",
        "- HR-anchored narrow band-pass to reveal pulse waveform structure\n",
        "- Plot raw vs. filtered traces over time (seconds)\n",
        "\n",
        "Tip: Keep clips ≥10–20s for clearer spectra.\n"
      ]
    },
    {
      "cell_type": "code",
      "execution_count": null,
      "metadata": {},
      "outputs": [],
      "source": [
        "import os\n",
        "import numpy as np\n",
        "import matplotlib.pyplot as plt\n",
        "\n",
        "from app.services.video_io import video_to_frames\n",
        "from app.services.signal_proc import (\n",
        "    emphasize_green_mean_rgb,\n",
        "    preprocess_bvp,\n",
        "    preprocess_bvp_anchored,\n",
        "    bpm_fft,\n",
        ")\n",
        "from app.config import FPS\n",
        "\n",
        "# ---- User input ----\n",
        "VIDEO_PATH = os.getenv(\"VIZ_VIDEO\", \"./sample.mp4\")  # set to your file\n",
        "# --------------------\n",
        "\n",
        "# Read video bytes\n",
        "with open(VIDEO_PATH, \"rb\") as f:\n",
        "    data = f.read()\n",
        "\n",
        "# Extract frames and fs using the same API helper\n",
        "frames, fs_used, enh_used, crop_used, _ = video_to_frames(data)\n",
        "fs = int(fs_used) if fs_used else FPS\n",
        "\n",
        "print(f\"Frames: {len(frames)} | fs: {fs} | enhancement: {enh_used} | face_crop: {crop_used}\")\n",
        "\n",
        "# Raw green-trace (skin masked)\n",
        "raw_green = emphasize_green_mean_rgb(frames)\n",
        "\n",
        "# Broad band-pass and HR estimate\n",
        "bvp_broad = preprocess_bvp(raw_green, fs)\n",
        "hr_est = bpm_fft(bvp_broad, fs)\n",
        "print(f\"FFT HR estimate: {hr_est:.1f} bpm\")\n",
        "\n",
        "# HR-anchored narrow band-pass to reveal pulse waveform\n",
        "bvp_anchored = preprocess_bvp_anchored(raw_green, fs, hr_est)\n",
        "\n",
        "t = np.arange(len(raw_green)) / fs\n",
        "\n",
        "plt.figure(figsize=(12, 6))\n",
        "plt.plot(t, raw_green - np.mean(raw_green), label=\"Raw green (centered)\", alpha=0.5)\n",
        "plt.plot(t, bvp_broad - np.mean(bvp_broad), label=\"Broad band-pass\", linewidth=1.5)\n",
        "plt.plot(t, bvp_anchored - np.mean(bvp_anchored), label=\"HR-anchored band-pass\", linewidth=2)\n",
        "plt.xlabel(\"Time (s)\")\n",
        "plt.ylabel(\"Amplitude (a.u.)\")\n",
        "plt.title(\"rPPG Waveform Structure\")\n",
        "plt.legend()\n",
        "plt.grid(True, alpha=0.3)\n",
        "plt.tight_layout()\n",
        "plt.show()\n"
      ]
    }
  ],
  "metadata": {
    "language_info": {
      "name": "python"
    }
  },
  "nbformat": 4,
  "nbformat_minor": 2
}
